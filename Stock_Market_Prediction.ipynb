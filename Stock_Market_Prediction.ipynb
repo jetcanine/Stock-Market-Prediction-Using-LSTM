{
  "nbformat": 4,
  "nbformat_minor": 0,
  "metadata": {
    "colab": {
      "provenance": [],
      "authorship_tag": "ABX9TyPUokrtVjTFcNedT2/Wlu1Y",
      "include_colab_link": true
    },
    "kernelspec": {
      "name": "python3",
      "display_name": "Python 3"
    },
    "language_info": {
      "name": "python"
    }
  },
  "cells": [
    {
      "cell_type": "markdown",
      "metadata": {
        "id": "view-in-github",
        "colab_type": "text"
      },
      "source": [
        "<a href=\"https://colab.research.google.com/github/jetcanine/Stock-Market-Prediction-Using-LSTM/blob/main/Stock_Market_Prediction.ipynb\" target=\"_parent\"><img src=\"https://colab.research.google.com/assets/colab-badge.svg\" alt=\"Open In Colab\"/></a>"
      ]
    },
    {
      "cell_type": "code",
      "execution_count": 1,
      "metadata": {
        "id": "rHCwTneInM3F"
      },
      "outputs": [],
      "source": [
        "import pandas_datareader as pdr\n",
        "key=\"3f12bdaa0c803e87f28ae7e3daf5ce2417c87728\""
      ]
    },
    {
      "cell_type": "code",
      "source": [
        "df = pdr.get_data_tiingo('GOOG', api_key=key)\n",
        "df.to_csv('GOOG.csv')\n",
        "\n"
      ],
      "metadata": {
        "colab": {
          "base_uri": "https://localhost:8080/"
        },
        "id": "3_6DXg_xoVFD",
        "outputId": "4cb2f81b-1084-4be7-c738-92832682b88c"
      },
      "execution_count": 2,
      "outputs": [
        {
          "output_type": "stream",
          "name": "stderr",
          "text": [
            "<ipython-input-2-ea5e6dd1dfbe>:1: FutureWarning: In a future version of pandas all arguments of concat except for the argument 'objs' will be keyword-only.\n",
            "  df = pdr.get_data_tiingo('GOOG', api_key=key)\n"
          ]
        }
      ]
    },
    {
      "cell_type": "code",
      "source": [
        "import pandas as pd\n",
        "df=pd.read_csv('GOOG.csv')\n"
      ],
      "metadata": {
        "id": "MWZVnmo8ojjM"
      },
      "execution_count": 4,
      "outputs": []
    },
    {
      "cell_type": "code",
      "source": [
        "\n",
        "df.head()\n"
      ],
      "metadata": {
        "colab": {
          "base_uri": "https://localhost:8080/",
          "height": 206
        },
        "id": "lGthpDz6o4f0",
        "outputId": "ec71b2e1-ec10-4ef3-b6c6-e8813d3bf5ed"
      },
      "execution_count": 5,
      "outputs": [
        {
          "output_type": "execute_result",
          "data": {
            "text/plain": [
              "  symbol                       date    close     high       low     open  \\\n",
              "0   GOOG  2018-09-05 00:00:00+00:00  1186.48  1199.01  1162.000  1193.80   \n",
              "1   GOOG  2018-09-06 00:00:00+00:00  1171.44  1186.30  1152.000  1186.30   \n",
              "2   GOOG  2018-09-07 00:00:00+00:00  1164.83  1175.26  1157.215  1158.67   \n",
              "3   GOOG  2018-09-10 00:00:00+00:00  1164.64  1174.54  1160.110  1172.19   \n",
              "4   GOOG  2018-09-11 00:00:00+00:00  1177.36  1178.68  1156.240  1161.63   \n",
              "\n",
              "    volume  adjClose  adjHigh    adjLow  adjOpen  adjVolume  divCash  \\\n",
              "0  2061309   59.3240  59.9505  58.10000  59.6900   41226180      0.0   \n",
              "1  1888467   58.5720  59.3150  57.60000  59.3150   37769340      0.0   \n",
              "2  1401404   58.2415  58.7630  57.86075  57.9335   28028080      0.0   \n",
              "3  1115796   58.2320  58.7270  58.00550  58.6095   22315920      0.0   \n",
              "4  1209565   58.8680  58.9340  57.81200  58.0815   24191300      0.0   \n",
              "\n",
              "   splitFactor  \n",
              "0          1.0  \n",
              "1          1.0  \n",
              "2          1.0  \n",
              "3          1.0  \n",
              "4          1.0  "
            ],
            "text/html": [
              "\n",
              "  <div id=\"df-63285e93-7a48-48e7-ba32-ff1970672b8b\" class=\"colab-df-container\">\n",
              "    <div>\n",
              "<style scoped>\n",
              "    .dataframe tbody tr th:only-of-type {\n",
              "        vertical-align: middle;\n",
              "    }\n",
              "\n",
              "    .dataframe tbody tr th {\n",
              "        vertical-align: top;\n",
              "    }\n",
              "\n",
              "    .dataframe thead th {\n",
              "        text-align: right;\n",
              "    }\n",
              "</style>\n",
              "<table border=\"1\" class=\"dataframe\">\n",
              "  <thead>\n",
              "    <tr style=\"text-align: right;\">\n",
              "      <th></th>\n",
              "      <th>symbol</th>\n",
              "      <th>date</th>\n",
              "      <th>close</th>\n",
              "      <th>high</th>\n",
              "      <th>low</th>\n",
              "      <th>open</th>\n",
              "      <th>volume</th>\n",
              "      <th>adjClose</th>\n",
              "      <th>adjHigh</th>\n",
              "      <th>adjLow</th>\n",
              "      <th>adjOpen</th>\n",
              "      <th>adjVolume</th>\n",
              "      <th>divCash</th>\n",
              "      <th>splitFactor</th>\n",
              "    </tr>\n",
              "  </thead>\n",
              "  <tbody>\n",
              "    <tr>\n",
              "      <th>0</th>\n",
              "      <td>GOOG</td>\n",
              "      <td>2018-09-05 00:00:00+00:00</td>\n",
              "      <td>1186.48</td>\n",
              "      <td>1199.01</td>\n",
              "      <td>1162.000</td>\n",
              "      <td>1193.80</td>\n",
              "      <td>2061309</td>\n",
              "      <td>59.3240</td>\n",
              "      <td>59.9505</td>\n",
              "      <td>58.10000</td>\n",
              "      <td>59.6900</td>\n",
              "      <td>41226180</td>\n",
              "      <td>0.0</td>\n",
              "      <td>1.0</td>\n",
              "    </tr>\n",
              "    <tr>\n",
              "      <th>1</th>\n",
              "      <td>GOOG</td>\n",
              "      <td>2018-09-06 00:00:00+00:00</td>\n",
              "      <td>1171.44</td>\n",
              "      <td>1186.30</td>\n",
              "      <td>1152.000</td>\n",
              "      <td>1186.30</td>\n",
              "      <td>1888467</td>\n",
              "      <td>58.5720</td>\n",
              "      <td>59.3150</td>\n",
              "      <td>57.60000</td>\n",
              "      <td>59.3150</td>\n",
              "      <td>37769340</td>\n",
              "      <td>0.0</td>\n",
              "      <td>1.0</td>\n",
              "    </tr>\n",
              "    <tr>\n",
              "      <th>2</th>\n",
              "      <td>GOOG</td>\n",
              "      <td>2018-09-07 00:00:00+00:00</td>\n",
              "      <td>1164.83</td>\n",
              "      <td>1175.26</td>\n",
              "      <td>1157.215</td>\n",
              "      <td>1158.67</td>\n",
              "      <td>1401404</td>\n",
              "      <td>58.2415</td>\n",
              "      <td>58.7630</td>\n",
              "      <td>57.86075</td>\n",
              "      <td>57.9335</td>\n",
              "      <td>28028080</td>\n",
              "      <td>0.0</td>\n",
              "      <td>1.0</td>\n",
              "    </tr>\n",
              "    <tr>\n",
              "      <th>3</th>\n",
              "      <td>GOOG</td>\n",
              "      <td>2018-09-10 00:00:00+00:00</td>\n",
              "      <td>1164.64</td>\n",
              "      <td>1174.54</td>\n",
              "      <td>1160.110</td>\n",
              "      <td>1172.19</td>\n",
              "      <td>1115796</td>\n",
              "      <td>58.2320</td>\n",
              "      <td>58.7270</td>\n",
              "      <td>58.00550</td>\n",
              "      <td>58.6095</td>\n",
              "      <td>22315920</td>\n",
              "      <td>0.0</td>\n",
              "      <td>1.0</td>\n",
              "    </tr>\n",
              "    <tr>\n",
              "      <th>4</th>\n",
              "      <td>GOOG</td>\n",
              "      <td>2018-09-11 00:00:00+00:00</td>\n",
              "      <td>1177.36</td>\n",
              "      <td>1178.68</td>\n",
              "      <td>1156.240</td>\n",
              "      <td>1161.63</td>\n",
              "      <td>1209565</td>\n",
              "      <td>58.8680</td>\n",
              "      <td>58.9340</td>\n",
              "      <td>57.81200</td>\n",
              "      <td>58.0815</td>\n",
              "      <td>24191300</td>\n",
              "      <td>0.0</td>\n",
              "      <td>1.0</td>\n",
              "    </tr>\n",
              "  </tbody>\n",
              "</table>\n",
              "</div>\n",
              "    <div class=\"colab-df-buttons\">\n",
              "\n",
              "  <div class=\"colab-df-container\">\n",
              "    <button class=\"colab-df-convert\" onclick=\"convertToInteractive('df-63285e93-7a48-48e7-ba32-ff1970672b8b')\"\n",
              "            title=\"Convert this dataframe to an interactive table.\"\n",
              "            style=\"display:none;\">\n",
              "\n",
              "  <svg xmlns=\"http://www.w3.org/2000/svg\" height=\"24px\" viewBox=\"0 -960 960 960\">\n",
              "    <path d=\"M120-120v-720h720v720H120Zm60-500h600v-160H180v160Zm220 220h160v-160H400v160Zm0 220h160v-160H400v160ZM180-400h160v-160H180v160Zm440 0h160v-160H620v160ZM180-180h160v-160H180v160Zm440 0h160v-160H620v160Z\"/>\n",
              "  </svg>\n",
              "    </button>\n",
              "\n",
              "  <style>\n",
              "    .colab-df-container {\n",
              "      display:flex;\n",
              "      gap: 12px;\n",
              "    }\n",
              "\n",
              "    .colab-df-convert {\n",
              "      background-color: #E8F0FE;\n",
              "      border: none;\n",
              "      border-radius: 50%;\n",
              "      cursor: pointer;\n",
              "      display: none;\n",
              "      fill: #1967D2;\n",
              "      height: 32px;\n",
              "      padding: 0 0 0 0;\n",
              "      width: 32px;\n",
              "    }\n",
              "\n",
              "    .colab-df-convert:hover {\n",
              "      background-color: #E2EBFA;\n",
              "      box-shadow: 0px 1px 2px rgba(60, 64, 67, 0.3), 0px 1px 3px 1px rgba(60, 64, 67, 0.15);\n",
              "      fill: #174EA6;\n",
              "    }\n",
              "\n",
              "    .colab-df-buttons div {\n",
              "      margin-bottom: 4px;\n",
              "    }\n",
              "\n",
              "    [theme=dark] .colab-df-convert {\n",
              "      background-color: #3B4455;\n",
              "      fill: #D2E3FC;\n",
              "    }\n",
              "\n",
              "    [theme=dark] .colab-df-convert:hover {\n",
              "      background-color: #434B5C;\n",
              "      box-shadow: 0px 1px 3px 1px rgba(0, 0, 0, 0.15);\n",
              "      filter: drop-shadow(0px 1px 2px rgba(0, 0, 0, 0.3));\n",
              "      fill: #FFFFFF;\n",
              "    }\n",
              "  </style>\n",
              "\n",
              "    <script>\n",
              "      const buttonEl =\n",
              "        document.querySelector('#df-63285e93-7a48-48e7-ba32-ff1970672b8b button.colab-df-convert');\n",
              "      buttonEl.style.display =\n",
              "        google.colab.kernel.accessAllowed ? 'block' : 'none';\n",
              "\n",
              "      async function convertToInteractive(key) {\n",
              "        const element = document.querySelector('#df-63285e93-7a48-48e7-ba32-ff1970672b8b');\n",
              "        const dataTable =\n",
              "          await google.colab.kernel.invokeFunction('convertToInteractive',\n",
              "                                                    [key], {});\n",
              "        if (!dataTable) return;\n",
              "\n",
              "        const docLinkHtml = 'Like what you see? Visit the ' +\n",
              "          '<a target=\"_blank\" href=https://colab.research.google.com/notebooks/data_table.ipynb>data table notebook</a>'\n",
              "          + ' to learn more about interactive tables.';\n",
              "        element.innerHTML = '';\n",
              "        dataTable['output_type'] = 'display_data';\n",
              "        await google.colab.output.renderOutput(dataTable, element);\n",
              "        const docLink = document.createElement('div');\n",
              "        docLink.innerHTML = docLinkHtml;\n",
              "        element.appendChild(docLink);\n",
              "      }\n",
              "    </script>\n",
              "  </div>\n",
              "\n",
              "\n",
              "<div id=\"df-4143f981-db2d-4c9c-839a-abbc8147b9ca\">\n",
              "  <button class=\"colab-df-quickchart\" onclick=\"quickchart('df-4143f981-db2d-4c9c-839a-abbc8147b9ca')\"\n",
              "            title=\"Suggest charts.\"\n",
              "            style=\"display:none;\">\n",
              "\n",
              "<svg xmlns=\"http://www.w3.org/2000/svg\" height=\"24px\"viewBox=\"0 0 24 24\"\n",
              "     width=\"24px\">\n",
              "    <g>\n",
              "        <path d=\"M19 3H5c-1.1 0-2 .9-2 2v14c0 1.1.9 2 2 2h14c1.1 0 2-.9 2-2V5c0-1.1-.9-2-2-2zM9 17H7v-7h2v7zm4 0h-2V7h2v10zm4 0h-2v-4h2v4z\"/>\n",
              "    </g>\n",
              "</svg>\n",
              "  </button>\n",
              "\n",
              "<style>\n",
              "  .colab-df-quickchart {\n",
              "      --bg-color: #E8F0FE;\n",
              "      --fill-color: #1967D2;\n",
              "      --hover-bg-color: #E2EBFA;\n",
              "      --hover-fill-color: #174EA6;\n",
              "      --disabled-fill-color: #AAA;\n",
              "      --disabled-bg-color: #DDD;\n",
              "  }\n",
              "\n",
              "  [theme=dark] .colab-df-quickchart {\n",
              "      --bg-color: #3B4455;\n",
              "      --fill-color: #D2E3FC;\n",
              "      --hover-bg-color: #434B5C;\n",
              "      --hover-fill-color: #FFFFFF;\n",
              "      --disabled-bg-color: #3B4455;\n",
              "      --disabled-fill-color: #666;\n",
              "  }\n",
              "\n",
              "  .colab-df-quickchart {\n",
              "    background-color: var(--bg-color);\n",
              "    border: none;\n",
              "    border-radius: 50%;\n",
              "    cursor: pointer;\n",
              "    display: none;\n",
              "    fill: var(--fill-color);\n",
              "    height: 32px;\n",
              "    padding: 0;\n",
              "    width: 32px;\n",
              "  }\n",
              "\n",
              "  .colab-df-quickchart:hover {\n",
              "    background-color: var(--hover-bg-color);\n",
              "    box-shadow: 0 1px 2px rgba(60, 64, 67, 0.3), 0 1px 3px 1px rgba(60, 64, 67, 0.15);\n",
              "    fill: var(--button-hover-fill-color);\n",
              "  }\n",
              "\n",
              "  .colab-df-quickchart-complete:disabled,\n",
              "  .colab-df-quickchart-complete:disabled:hover {\n",
              "    background-color: var(--disabled-bg-color);\n",
              "    fill: var(--disabled-fill-color);\n",
              "    box-shadow: none;\n",
              "  }\n",
              "\n",
              "  .colab-df-spinner {\n",
              "    border: 2px solid var(--fill-color);\n",
              "    border-color: transparent;\n",
              "    border-bottom-color: var(--fill-color);\n",
              "    animation:\n",
              "      spin 1s steps(1) infinite;\n",
              "  }\n",
              "\n",
              "  @keyframes spin {\n",
              "    0% {\n",
              "      border-color: transparent;\n",
              "      border-bottom-color: var(--fill-color);\n",
              "      border-left-color: var(--fill-color);\n",
              "    }\n",
              "    20% {\n",
              "      border-color: transparent;\n",
              "      border-left-color: var(--fill-color);\n",
              "      border-top-color: var(--fill-color);\n",
              "    }\n",
              "    30% {\n",
              "      border-color: transparent;\n",
              "      border-left-color: var(--fill-color);\n",
              "      border-top-color: var(--fill-color);\n",
              "      border-right-color: var(--fill-color);\n",
              "    }\n",
              "    40% {\n",
              "      border-color: transparent;\n",
              "      border-right-color: var(--fill-color);\n",
              "      border-top-color: var(--fill-color);\n",
              "    }\n",
              "    60% {\n",
              "      border-color: transparent;\n",
              "      border-right-color: var(--fill-color);\n",
              "    }\n",
              "    80% {\n",
              "      border-color: transparent;\n",
              "      border-right-color: var(--fill-color);\n",
              "      border-bottom-color: var(--fill-color);\n",
              "    }\n",
              "    90% {\n",
              "      border-color: transparent;\n",
              "      border-bottom-color: var(--fill-color);\n",
              "    }\n",
              "  }\n",
              "</style>\n",
              "\n",
              "  <script>\n",
              "    async function quickchart(key) {\n",
              "      const quickchartButtonEl =\n",
              "        document.querySelector('#' + key + ' button');\n",
              "      quickchartButtonEl.disabled = true;  // To prevent multiple clicks.\n",
              "      quickchartButtonEl.classList.add('colab-df-spinner');\n",
              "      try {\n",
              "        const charts = await google.colab.kernel.invokeFunction(\n",
              "            'suggestCharts', [key], {});\n",
              "      } catch (error) {\n",
              "        console.error('Error during call to suggestCharts:', error);\n",
              "      }\n",
              "      quickchartButtonEl.classList.remove('colab-df-spinner');\n",
              "      quickchartButtonEl.classList.add('colab-df-quickchart-complete');\n",
              "    }\n",
              "    (() => {\n",
              "      let quickchartButtonEl =\n",
              "        document.querySelector('#df-4143f981-db2d-4c9c-839a-abbc8147b9ca button');\n",
              "      quickchartButtonEl.style.display =\n",
              "        google.colab.kernel.accessAllowed ? 'block' : 'none';\n",
              "    })();\n",
              "  </script>\n",
              "</div>\n",
              "    </div>\n",
              "  </div>\n"
            ]
          },
          "metadata": {},
          "execution_count": 5
        }
      ]
    },
    {
      "cell_type": "code",
      "source": [
        "df.tail()\n"
      ],
      "metadata": {
        "colab": {
          "base_uri": "https://localhost:8080/",
          "height": 206
        },
        "id": "BLOyMIO5o7jU",
        "outputId": "93008eab-2f00-4bdf-f189-3c65dd16788e"
      },
      "execution_count": 6,
      "outputs": [
        {
          "output_type": "execute_result",
          "data": {
            "text/plain": [
              "     symbol                       date   close     high      low      open  \\\n",
              "1252   GOOG  2023-08-28 00:00:00+00:00  131.79  133.240  130.850  132.0800   \n",
              "1253   GOOG  2023-08-29 00:00:00+00:00  135.49  137.295  132.980  132.9981   \n",
              "1254   GOOG  2023-08-30 00:00:00+00:00  136.93  137.250  135.021  135.5700   \n",
              "1255   GOOG  2023-08-31 00:00:00+00:00  137.35  138.400  136.820  137.0500   \n",
              "1256   GOOG  2023-09-01 00:00:00+00:00  136.80  138.580  135.940  138.4300   \n",
              "\n",
              "        volume  adjClose  adjHigh   adjLow   adjOpen  adjVolume  divCash  \\\n",
              "1252  16715467    131.79  133.240  130.850  132.0800   16715467      0.0   \n",
              "1253  30803265    135.49  137.295  132.980  132.9981   30803265      0.0   \n",
              "1254  21773356    136.93  137.250  135.021  135.5700   21773356      0.0   \n",
              "1255  28147850    137.35  138.400  136.820  137.0500   28147850      0.0   \n",
              "1256  16671647    136.80  138.580  135.940  138.4300   16671647      0.0   \n",
              "\n",
              "      splitFactor  \n",
              "1252          1.0  \n",
              "1253          1.0  \n",
              "1254          1.0  \n",
              "1255          1.0  \n",
              "1256          1.0  "
            ],
            "text/html": [
              "\n",
              "  <div id=\"df-116bf559-01a4-494f-b289-fd2b0fe9df12\" class=\"colab-df-container\">\n",
              "    <div>\n",
              "<style scoped>\n",
              "    .dataframe tbody tr th:only-of-type {\n",
              "        vertical-align: middle;\n",
              "    }\n",
              "\n",
              "    .dataframe tbody tr th {\n",
              "        vertical-align: top;\n",
              "    }\n",
              "\n",
              "    .dataframe thead th {\n",
              "        text-align: right;\n",
              "    }\n",
              "</style>\n",
              "<table border=\"1\" class=\"dataframe\">\n",
              "  <thead>\n",
              "    <tr style=\"text-align: right;\">\n",
              "      <th></th>\n",
              "      <th>symbol</th>\n",
              "      <th>date</th>\n",
              "      <th>close</th>\n",
              "      <th>high</th>\n",
              "      <th>low</th>\n",
              "      <th>open</th>\n",
              "      <th>volume</th>\n",
              "      <th>adjClose</th>\n",
              "      <th>adjHigh</th>\n",
              "      <th>adjLow</th>\n",
              "      <th>adjOpen</th>\n",
              "      <th>adjVolume</th>\n",
              "      <th>divCash</th>\n",
              "      <th>splitFactor</th>\n",
              "    </tr>\n",
              "  </thead>\n",
              "  <tbody>\n",
              "    <tr>\n",
              "      <th>1252</th>\n",
              "      <td>GOOG</td>\n",
              "      <td>2023-08-28 00:00:00+00:00</td>\n",
              "      <td>131.79</td>\n",
              "      <td>133.240</td>\n",
              "      <td>130.850</td>\n",
              "      <td>132.0800</td>\n",
              "      <td>16715467</td>\n",
              "      <td>131.79</td>\n",
              "      <td>133.240</td>\n",
              "      <td>130.850</td>\n",
              "      <td>132.0800</td>\n",
              "      <td>16715467</td>\n",
              "      <td>0.0</td>\n",
              "      <td>1.0</td>\n",
              "    </tr>\n",
              "    <tr>\n",
              "      <th>1253</th>\n",
              "      <td>GOOG</td>\n",
              "      <td>2023-08-29 00:00:00+00:00</td>\n",
              "      <td>135.49</td>\n",
              "      <td>137.295</td>\n",
              "      <td>132.980</td>\n",
              "      <td>132.9981</td>\n",
              "      <td>30803265</td>\n",
              "      <td>135.49</td>\n",
              "      <td>137.295</td>\n",
              "      <td>132.980</td>\n",
              "      <td>132.9981</td>\n",
              "      <td>30803265</td>\n",
              "      <td>0.0</td>\n",
              "      <td>1.0</td>\n",
              "    </tr>\n",
              "    <tr>\n",
              "      <th>1254</th>\n",
              "      <td>GOOG</td>\n",
              "      <td>2023-08-30 00:00:00+00:00</td>\n",
              "      <td>136.93</td>\n",
              "      <td>137.250</td>\n",
              "      <td>135.021</td>\n",
              "      <td>135.5700</td>\n",
              "      <td>21773356</td>\n",
              "      <td>136.93</td>\n",
              "      <td>137.250</td>\n",
              "      <td>135.021</td>\n",
              "      <td>135.5700</td>\n",
              "      <td>21773356</td>\n",
              "      <td>0.0</td>\n",
              "      <td>1.0</td>\n",
              "    </tr>\n",
              "    <tr>\n",
              "      <th>1255</th>\n",
              "      <td>GOOG</td>\n",
              "      <td>2023-08-31 00:00:00+00:00</td>\n",
              "      <td>137.35</td>\n",
              "      <td>138.400</td>\n",
              "      <td>136.820</td>\n",
              "      <td>137.0500</td>\n",
              "      <td>28147850</td>\n",
              "      <td>137.35</td>\n",
              "      <td>138.400</td>\n",
              "      <td>136.820</td>\n",
              "      <td>137.0500</td>\n",
              "      <td>28147850</td>\n",
              "      <td>0.0</td>\n",
              "      <td>1.0</td>\n",
              "    </tr>\n",
              "    <tr>\n",
              "      <th>1256</th>\n",
              "      <td>GOOG</td>\n",
              "      <td>2023-09-01 00:00:00+00:00</td>\n",
              "      <td>136.80</td>\n",
              "      <td>138.580</td>\n",
              "      <td>135.940</td>\n",
              "      <td>138.4300</td>\n",
              "      <td>16671647</td>\n",
              "      <td>136.80</td>\n",
              "      <td>138.580</td>\n",
              "      <td>135.940</td>\n",
              "      <td>138.4300</td>\n",
              "      <td>16671647</td>\n",
              "      <td>0.0</td>\n",
              "      <td>1.0</td>\n",
              "    </tr>\n",
              "  </tbody>\n",
              "</table>\n",
              "</div>\n",
              "    <div class=\"colab-df-buttons\">\n",
              "\n",
              "  <div class=\"colab-df-container\">\n",
              "    <button class=\"colab-df-convert\" onclick=\"convertToInteractive('df-116bf559-01a4-494f-b289-fd2b0fe9df12')\"\n",
              "            title=\"Convert this dataframe to an interactive table.\"\n",
              "            style=\"display:none;\">\n",
              "\n",
              "  <svg xmlns=\"http://www.w3.org/2000/svg\" height=\"24px\" viewBox=\"0 -960 960 960\">\n",
              "    <path d=\"M120-120v-720h720v720H120Zm60-500h600v-160H180v160Zm220 220h160v-160H400v160Zm0 220h160v-160H400v160ZM180-400h160v-160H180v160Zm440 0h160v-160H620v160ZM180-180h160v-160H180v160Zm440 0h160v-160H620v160Z\"/>\n",
              "  </svg>\n",
              "    </button>\n",
              "\n",
              "  <style>\n",
              "    .colab-df-container {\n",
              "      display:flex;\n",
              "      gap: 12px;\n",
              "    }\n",
              "\n",
              "    .colab-df-convert {\n",
              "      background-color: #E8F0FE;\n",
              "      border: none;\n",
              "      border-radius: 50%;\n",
              "      cursor: pointer;\n",
              "      display: none;\n",
              "      fill: #1967D2;\n",
              "      height: 32px;\n",
              "      padding: 0 0 0 0;\n",
              "      width: 32px;\n",
              "    }\n",
              "\n",
              "    .colab-df-convert:hover {\n",
              "      background-color: #E2EBFA;\n",
              "      box-shadow: 0px 1px 2px rgba(60, 64, 67, 0.3), 0px 1px 3px 1px rgba(60, 64, 67, 0.15);\n",
              "      fill: #174EA6;\n",
              "    }\n",
              "\n",
              "    .colab-df-buttons div {\n",
              "      margin-bottom: 4px;\n",
              "    }\n",
              "\n",
              "    [theme=dark] .colab-df-convert {\n",
              "      background-color: #3B4455;\n",
              "      fill: #D2E3FC;\n",
              "    }\n",
              "\n",
              "    [theme=dark] .colab-df-convert:hover {\n",
              "      background-color: #434B5C;\n",
              "      box-shadow: 0px 1px 3px 1px rgba(0, 0, 0, 0.15);\n",
              "      filter: drop-shadow(0px 1px 2px rgba(0, 0, 0, 0.3));\n",
              "      fill: #FFFFFF;\n",
              "    }\n",
              "  </style>\n",
              "\n",
              "    <script>\n",
              "      const buttonEl =\n",
              "        document.querySelector('#df-116bf559-01a4-494f-b289-fd2b0fe9df12 button.colab-df-convert');\n",
              "      buttonEl.style.display =\n",
              "        google.colab.kernel.accessAllowed ? 'block' : 'none';\n",
              "\n",
              "      async function convertToInteractive(key) {\n",
              "        const element = document.querySelector('#df-116bf559-01a4-494f-b289-fd2b0fe9df12');\n",
              "        const dataTable =\n",
              "          await google.colab.kernel.invokeFunction('convertToInteractive',\n",
              "                                                    [key], {});\n",
              "        if (!dataTable) return;\n",
              "\n",
              "        const docLinkHtml = 'Like what you see? Visit the ' +\n",
              "          '<a target=\"_blank\" href=https://colab.research.google.com/notebooks/data_table.ipynb>data table notebook</a>'\n",
              "          + ' to learn more about interactive tables.';\n",
              "        element.innerHTML = '';\n",
              "        dataTable['output_type'] = 'display_data';\n",
              "        await google.colab.output.renderOutput(dataTable, element);\n",
              "        const docLink = document.createElement('div');\n",
              "        docLink.innerHTML = docLinkHtml;\n",
              "        element.appendChild(docLink);\n",
              "      }\n",
              "    </script>\n",
              "  </div>\n",
              "\n",
              "\n",
              "<div id=\"df-ea222c3e-d4a6-4edf-9be3-6e5fb9da58ee\">\n",
              "  <button class=\"colab-df-quickchart\" onclick=\"quickchart('df-ea222c3e-d4a6-4edf-9be3-6e5fb9da58ee')\"\n",
              "            title=\"Suggest charts.\"\n",
              "            style=\"display:none;\">\n",
              "\n",
              "<svg xmlns=\"http://www.w3.org/2000/svg\" height=\"24px\"viewBox=\"0 0 24 24\"\n",
              "     width=\"24px\">\n",
              "    <g>\n",
              "        <path d=\"M19 3H5c-1.1 0-2 .9-2 2v14c0 1.1.9 2 2 2h14c1.1 0 2-.9 2-2V5c0-1.1-.9-2-2-2zM9 17H7v-7h2v7zm4 0h-2V7h2v10zm4 0h-2v-4h2v4z\"/>\n",
              "    </g>\n",
              "</svg>\n",
              "  </button>\n",
              "\n",
              "<style>\n",
              "  .colab-df-quickchart {\n",
              "      --bg-color: #E8F0FE;\n",
              "      --fill-color: #1967D2;\n",
              "      --hover-bg-color: #E2EBFA;\n",
              "      --hover-fill-color: #174EA6;\n",
              "      --disabled-fill-color: #AAA;\n",
              "      --disabled-bg-color: #DDD;\n",
              "  }\n",
              "\n",
              "  [theme=dark] .colab-df-quickchart {\n",
              "      --bg-color: #3B4455;\n",
              "      --fill-color: #D2E3FC;\n",
              "      --hover-bg-color: #434B5C;\n",
              "      --hover-fill-color: #FFFFFF;\n",
              "      --disabled-bg-color: #3B4455;\n",
              "      --disabled-fill-color: #666;\n",
              "  }\n",
              "\n",
              "  .colab-df-quickchart {\n",
              "    background-color: var(--bg-color);\n",
              "    border: none;\n",
              "    border-radius: 50%;\n",
              "    cursor: pointer;\n",
              "    display: none;\n",
              "    fill: var(--fill-color);\n",
              "    height: 32px;\n",
              "    padding: 0;\n",
              "    width: 32px;\n",
              "  }\n",
              "\n",
              "  .colab-df-quickchart:hover {\n",
              "    background-color: var(--hover-bg-color);\n",
              "    box-shadow: 0 1px 2px rgba(60, 64, 67, 0.3), 0 1px 3px 1px rgba(60, 64, 67, 0.15);\n",
              "    fill: var(--button-hover-fill-color);\n",
              "  }\n",
              "\n",
              "  .colab-df-quickchart-complete:disabled,\n",
              "  .colab-df-quickchart-complete:disabled:hover {\n",
              "    background-color: var(--disabled-bg-color);\n",
              "    fill: var(--disabled-fill-color);\n",
              "    box-shadow: none;\n",
              "  }\n",
              "\n",
              "  .colab-df-spinner {\n",
              "    border: 2px solid var(--fill-color);\n",
              "    border-color: transparent;\n",
              "    border-bottom-color: var(--fill-color);\n",
              "    animation:\n",
              "      spin 1s steps(1) infinite;\n",
              "  }\n",
              "\n",
              "  @keyframes spin {\n",
              "    0% {\n",
              "      border-color: transparent;\n",
              "      border-bottom-color: var(--fill-color);\n",
              "      border-left-color: var(--fill-color);\n",
              "    }\n",
              "    20% {\n",
              "      border-color: transparent;\n",
              "      border-left-color: var(--fill-color);\n",
              "      border-top-color: var(--fill-color);\n",
              "    }\n",
              "    30% {\n",
              "      border-color: transparent;\n",
              "      border-left-color: var(--fill-color);\n",
              "      border-top-color: var(--fill-color);\n",
              "      border-right-color: var(--fill-color);\n",
              "    }\n",
              "    40% {\n",
              "      border-color: transparent;\n",
              "      border-right-color: var(--fill-color);\n",
              "      border-top-color: var(--fill-color);\n",
              "    }\n",
              "    60% {\n",
              "      border-color: transparent;\n",
              "      border-right-color: var(--fill-color);\n",
              "    }\n",
              "    80% {\n",
              "      border-color: transparent;\n",
              "      border-right-color: var(--fill-color);\n",
              "      border-bottom-color: var(--fill-color);\n",
              "    }\n",
              "    90% {\n",
              "      border-color: transparent;\n",
              "      border-bottom-color: var(--fill-color);\n",
              "    }\n",
              "  }\n",
              "</style>\n",
              "\n",
              "  <script>\n",
              "    async function quickchart(key) {\n",
              "      const quickchartButtonEl =\n",
              "        document.querySelector('#' + key + ' button');\n",
              "      quickchartButtonEl.disabled = true;  // To prevent multiple clicks.\n",
              "      quickchartButtonEl.classList.add('colab-df-spinner');\n",
              "      try {\n",
              "        const charts = await google.colab.kernel.invokeFunction(\n",
              "            'suggestCharts', [key], {});\n",
              "      } catch (error) {\n",
              "        console.error('Error during call to suggestCharts:', error);\n",
              "      }\n",
              "      quickchartButtonEl.classList.remove('colab-df-spinner');\n",
              "      quickchartButtonEl.classList.add('colab-df-quickchart-complete');\n",
              "    }\n",
              "    (() => {\n",
              "      let quickchartButtonEl =\n",
              "        document.querySelector('#df-ea222c3e-d4a6-4edf-9be3-6e5fb9da58ee button');\n",
              "      quickchartButtonEl.style.display =\n",
              "        google.colab.kernel.accessAllowed ? 'block' : 'none';\n",
              "    })();\n",
              "  </script>\n",
              "</div>\n",
              "    </div>\n",
              "  </div>\n"
            ]
          },
          "metadata": {},
          "execution_count": 6
        }
      ]
    },
    {
      "cell_type": "code",
      "source": [
        "df1=df.reset_index()['close']"
      ],
      "metadata": {
        "id": "0Q2dUhRXpH1e"
      },
      "execution_count": 7,
      "outputs": []
    },
    {
      "cell_type": "code",
      "source": [
        "df1\n"
      ],
      "metadata": {
        "colab": {
          "base_uri": "https://localhost:8080/"
        },
        "id": "941l0SohpNVO",
        "outputId": "030fc26e-497b-41ef-d007-894ab925a406"
      },
      "execution_count": 8,
      "outputs": [
        {
          "output_type": "execute_result",
          "data": {
            "text/plain": [
              "0       1186.48\n",
              "1       1171.44\n",
              "2       1164.83\n",
              "3       1164.64\n",
              "4       1177.36\n",
              "         ...   \n",
              "1252     131.79\n",
              "1253     135.49\n",
              "1254     136.93\n",
              "1255     137.35\n",
              "1256     136.80\n",
              "Name: close, Length: 1257, dtype: float64"
            ]
          },
          "metadata": {},
          "execution_count": 8
        }
      ]
    },
    {
      "cell_type": "code",
      "source": [
        "import matplotlib.pyplot as plt\n",
        "plt.plot(df1)"
      ],
      "metadata": {
        "colab": {
          "base_uri": "https://localhost:8080/",
          "height": 447
        },
        "id": "6FJFszLppPAM",
        "outputId": "3284ebfd-4efe-44ee-8563-c6aa9c875a2d"
      },
      "execution_count": 9,
      "outputs": [
        {
          "output_type": "execute_result",
          "data": {
            "text/plain": [
              "[<matplotlib.lines.Line2D at 0x7efed51229b0>]"
            ]
          },
          "metadata": {},
          "execution_count": 9
        },
        {
          "output_type": "display_data",
          "data": {
            "text/plain": [
              "<Figure size 640x480 with 1 Axes>"
            ],
            "image/png": "[encoded data removed]"
          },
          "metadata": {}
        }
      ]
    },
    {
      "cell_type": "code",
      "source": [
        "import numpy as np\n",
        "\n",
        "from sklearn.preprocessing import MinMaxScaler #Used MinmaxScalar since LSTM requires values between 0 to 1\n",
        "scaler=MinMaxScaler(feature_range=(0,1))\n",
        "df1=scaler.fit_transform(np.array(df1).reshape(-1,1))"
      ],
      "metadata": {
        "id": "sfjPoCMWpXWO"
      },
      "execution_count": 10,
      "outputs": []
    },
    {
      "cell_type": "code",
      "source": [
        "df1.shape"
      ],
      "metadata": {
        "colab": {
          "base_uri": "https://localhost:8080/"
        },
        "id": "pbPPx4mRqJAa",
        "outputId": "69111e47-507a-4427-e2bb-ed9f8f25ab33"
      },
      "execution_count": 11,
      "outputs": [
        {
          "output_type": "execute_result",
          "data": {
            "text/plain": [
              "(1257, 1)"
            ]
          },
          "metadata": {},
          "execution_count": 11
        }
      ]
    },
    {
      "cell_type": "code",
      "source": [
        "print(df1)\n"
      ],
      "metadata": {
        "colab": {
          "base_uri": "https://localhost:8080/"
        },
        "id": "ijBXqlx4qXRd",
        "outputId": "f6c06046-d896-4713-f7f9-50dd3f511888"
      },
      "execution_count": 12,
      "outputs": [
        {
          "output_type": "stream",
          "name": "stdout",
          "text": [
            "[[0.37635847]\n",
            " [0.37122657]\n",
            " [0.36897113]\n",
            " ...\n",
            " [0.01823461]\n",
            " [0.01837792]\n",
            " [0.01819026]]\n"
          ]
        }
      ]
    },
    {
      "cell_type": "markdown",
      "source": [
        "For Timeseries Data, the next data is dependent on the pervious. Hence we will split the data into traning and testing\n",
        "\n",
        "Eg : Suppose the timeseries dataset contains the following parameters\n",
        "# 150, 139, 134, 140, 149, 145, 180, 182, 145\n",
        "We will split the data into,\n",
        "\n",
        "**Training** : 150, 139, 134, 140, 149 and **Testing** : 145, 180, 182, 145"
      ],
      "metadata": {
        "id": "Rk0Ot0OHqgoN"
      }
    },
    {
      "cell_type": "code",
      "source": [
        "##splitting dataset into train and test\n",
        "training_size=int(len(df1)*0.65) #This indicates 65% of total length of data will be training set\n",
        "test_size=len(df1)-training_size #Total length of data - Training Size = Test_size\n",
        "train_data,test_data=df1[0:training_size,:],df1[training_size:len(df1),:1]"
      ],
      "metadata": {
        "id": "NRkPYsDhsH2O"
      },
      "execution_count": 14,
      "outputs": []
    },
    {
      "cell_type": "code",
      "source": [
        "training_size,test_size\n"
      ],
      "metadata": {
        "colab": {
          "base_uri": "https://localhost:8080/"
        },
        "id": "NMBtv2G-svGJ",
        "outputId": "d1c247c6-aa56-4382-8bc7-1dab4490d671"
      },
      "execution_count": 15,
      "outputs": [
        {
          "output_type": "execute_result",
          "data": {
            "text/plain": [
              "(817, 440)"
            ]
          },
          "metadata": {},
          "execution_count": 15
        }
      ]
    },
    {
      "cell_type": "markdown",
      "source": [
        "# Preprocessing Using TimeSteps\n",
        " 150, 139, 134, 140  \n",
        "\n",
        "Timesteps = 3\n",
        "\n",
        "x_train   &nbsp;&nbsp;&nbsp;&nbsp;&nbsp;&nbsp;&nbsp;&nbsp;&nbsp;&nbsp;&nbsp;&nbsp;&nbsp;&nbsp;&nbsp;        y_train\n",
        "\n",
        "f1   &nbsp;&nbsp;  f2 &nbsp;&nbsp;&nbsp;   f3 &nbsp;&nbsp;&nbsp;&nbsp;&nbsp;&nbsp;&nbsp;&nbsp;&nbsp; o/p\n",
        "\n",
        "150, 139, 134 &nbsp;&nbsp;&nbsp;&nbsp;&nbsp;&nbsp;140\n",
        "\n",
        "139, 134, 140 &nbsp;&nbsp;&nbsp;&nbsp;&nbsp;&nbsp;149\n",
        "</br>\n",
        "</br>\n",
        "</br>\n",
        "\n",
        "y_train   &nbsp;&nbsp;&nbsp;&nbsp;&nbsp;&nbsp;&nbsp;&nbsp;&nbsp;&nbsp;&nbsp;&nbsp;&nbsp;&nbsp;&nbsp;        y_test\n",
        "\n",
        "\n",
        "f1   &nbsp;&nbsp;  f2 &nbsp;&nbsp;&nbsp;   f3 &nbsp;&nbsp;&nbsp;&nbsp;&nbsp;&nbsp;&nbsp;&nbsp;&nbsp; o/p\n",
        "\n",
        "\n",
        "145, 180, 182, &nbsp;&nbsp;&nbsp;&nbsp;&nbsp;145\n",
        "\n",
        "180, &nbsp;&nbsp; ... &nbsp;&nbsp;    ...   \n"
      ],
      "metadata": {
        "id": "2Ubrg-5ztnL7"
      }
    },
    {
      "cell_type": "code",
      "source": [
        "import numpy\n",
        "# convert an array of values into a dataset matrix\n",
        "def create_dataset(dataset, time_step=1):\n",
        "\tdataX, dataY = [], []\n",
        "\tfor i in range(len(dataset)-time_step-1):\n",
        "\t\ta = dataset[i:(i+time_step), 0]   ###i=0, 0,1,2,3-----99   100\n",
        "\t\tdataX.append(a)\n",
        "\t\tdataY.append(dataset[i + time_step, 0])\n",
        "\treturn numpy.array(dataX), numpy.array(dataY)"
      ],
      "metadata": {
        "id": "D-1Ztd-gzvgC"
      },
      "execution_count": 16,
      "outputs": []
    },
    {
      "cell_type": "code",
      "source": [
        "# reshape into X=t,t+1,t+2,t+3 and Y=t+4\n",
        "time_step = 100\n",
        "X_train, y_train = create_dataset(train_data, time_step)\n",
        "X_test, ytest = create_dataset(test_data, time_step)"
      ],
      "metadata": {
        "id": "uJJpjMCD25AA"
      },
      "execution_count": 17,
      "outputs": []
    },
    {
      "cell_type": "code",
      "source": [
        "print(X_train.shape), print(y_train.shape)\n"
      ],
      "metadata": {
        "colab": {
          "base_uri": "https://localhost:8080/"
        },
        "id": "RYgudTzN26PL",
        "outputId": "6769b1b7-d7e6-4eca-e283-c55fbbe651ed"
      },
      "execution_count": 18,
      "outputs": [
        {
          "output_type": "stream",
          "name": "stdout",
          "text": [
            "(716, 100)\n",
            "(716,)\n"
          ]
        },
        {
          "output_type": "execute_result",
          "data": {
            "text/plain": [
              "(None, None)"
            ]
          },
          "metadata": {},
          "execution_count": 18
        }
      ]
    },
    {
      "cell_type": "code",
      "source": [
        "print(X_test.shape), print(ytest.shape)"
      ],
      "metadata": {
        "colab": {
          "base_uri": "https://localhost:8080/"
        },
        "id": "MbGnVWMI29ok",
        "outputId": "844947ce-bad2-4c73-a3bd-3469501ed2e0"
      },
      "execution_count": 19,
      "outputs": [
        {
          "output_type": "stream",
          "name": "stdout",
          "text": [
            "(339, 100)\n",
            "(339,)\n"
          ]
        },
        {
          "output_type": "execute_result",
          "data": {
            "text/plain": [
              "(None, None)"
            ]
          },
          "metadata": {},
          "execution_count": 19
        }
      ]
    },
    {
      "cell_type": "code",
      "source": [
        "# reshape input to be [samples, time steps, features] which is required for LSTM\n",
        "X_train =X_train.reshape(X_train.shape[0],X_train.shape[1] , 1)\n",
        "X_test = X_test.reshape(X_test.shape[0],X_test.shape[1] , 1)"
      ],
      "metadata": {
        "id": "adYY4SXQ3NoH"
      },
      "execution_count": 20,
      "outputs": []
    },
    {
      "cell_type": "code",
      "source": [
        "### Create the Stacked LSTM model\n",
        "from tensorflow.keras.models import Sequential\n",
        "from tensorflow.keras.layers import Dense\n",
        "from tensorflow.keras.layers import LSTM"
      ],
      "metadata": {
        "id": "0DxCb4fO3PLa"
      },
      "execution_count": 21,
      "outputs": []
    },
    {
      "cell_type": "code",
      "source": [
        "model=Sequential()\n",
        "model.add(LSTM(50,return_sequences=True,input_shape=(100,1)))\n",
        "model.add(LSTM(50,return_sequences=True))\n",
        "model.add(LSTM(50))\n",
        "model.add(Dense(1))\n",
        "model.compile(loss='mean_squared_error',optimizer='adam')"
      ],
      "metadata": {
        "id": "rYUCN1bH3RnE"
      },
      "execution_count": 22,
      "outputs": []
    },
    {
      "cell_type": "code",
      "source": [
        "model.summary()\n"
      ],
      "metadata": {
        "colab": {
          "base_uri": "https://localhost:8080/"
        },
        "id": "ukwTaKoO3ZYx",
        "outputId": "f365832e-a0f9-40a3-917f-ba89b1b045e6"
      },
      "execution_count": 23,
      "outputs": [
        {
          "output_type": "stream",
          "name": "stdout",
          "text": [
            "Model: \"sequential\"\n",
            "_________________________________________________________________\n",
            " Layer (type)                Output Shape              Param #   \n",
            "=================================================================\n",
            " lstm (LSTM)                 (None, 100, 50)           10400     \n",
            "                                                                 \n",
            " lstm_1 (LSTM)               (None, 100, 50)           20200     \n",
            "                                                                 \n",
            " lstm_2 (LSTM)               (None, 50)                20200     \n",
            "                                                                 \n",
            " dense (Dense)               (None, 1)                 51        \n",
            "                                                                 \n",
            "=================================================================\n",
            "Total params: 50,851\n",
            "Trainable params: 50,851\n",
            "Non-trainable params: 0\n",
            "_________________________________________________________________\n"
          ]
        }
      ]
    },
    {
      "cell_type": "code",
      "source": [
        "model.fit(X_train,y_train,validation_data=(X_test,ytest),epochs=100,batch_size=64,verbose=1)\n"
      ],
      "metadata": {
        "colab": {
          "base_uri": "https://localhost:8080/"
        },
        "id": "pImC-wxH3lHq",
        "outputId": "7c41db5e-6495-473e-e143-a4bff2a60147"
      },
      "execution_count": 24,
      "outputs": [
        {
          "output_type": "stream",
          "name": "stdout",
          "text": [
            "Epoch 1/100\n",
            "12/12 [==============================] - 12s 359ms/step - loss: 0.1041 - val_loss: 0.0262\n",
            "Epoch 2/100\n",
            "12/12 [==============================] - 3s 241ms/step - loss: 0.0132 - val_loss: 0.0417\n",
            "Epoch 3/100\n",
            "12/12 [==============================] - 3s 293ms/step - loss: 0.0062 - val_loss: 0.0216\n",
            "Epoch 4/100\n",
            "12/12 [==============================] - 3s 247ms/step - loss: 0.0027 - val_loss: 0.0199\n",
            "Epoch 5/100\n",
            "12/12 [==============================] - 3s 237ms/step - loss: 0.0012 - val_loss: 0.0188\n",
            "Epoch 6/100\n",
            "12/12 [==============================] - 3s 237ms/step - loss: 7.6682e-04 - val_loss: 0.0182\n",
            "Epoch 7/100\n",
            "12/12 [==============================] - 3s 252ms/step - loss: 7.4293e-04 - val_loss: 0.0176\n",
            "Epoch 8/100\n",
            "12/12 [==============================] - 3s 282ms/step - loss: 7.0394e-04 - val_loss: 0.0172\n",
            "Epoch 9/100\n",
            "12/12 [==============================] - 2s 209ms/step - loss: 6.8839e-04 - val_loss: 0.0173\n",
            "Epoch 10/100\n",
            "12/12 [==============================] - 3s 238ms/step - loss: 6.7203e-04 - val_loss: 0.0167\n",
            "Epoch 11/100\n",
            "12/12 [==============================] - 3s 237ms/step - loss: 6.5382e-04 - val_loss: 0.0170\n",
            "Epoch 12/100\n",
            "12/12 [==============================] - 4s 302ms/step - loss: 6.7561e-04 - val_loss: 0.0164\n",
            "Epoch 13/100\n",
            "12/12 [==============================] - 2s 204ms/step - loss: 6.5710e-04 - val_loss: 0.0170\n",
            "Epoch 14/100\n",
            "12/12 [==============================] - 2s 210ms/step - loss: 6.9170e-04 - val_loss: 0.0164\n",
            "Epoch 15/100\n",
            "12/12 [==============================] - 3s 240ms/step - loss: 6.9909e-04 - val_loss: 0.0159\n",
            "Epoch 16/100\n",
            "12/12 [==============================] - 3s 298ms/step - loss: 6.4918e-04 - val_loss: 0.0163\n",
            "Epoch 17/100\n",
            "12/12 [==============================] - 3s 243ms/step - loss: 6.4612e-04 - val_loss: 0.0162\n",
            "Epoch 18/100\n",
            "12/12 [==============================] - 2s 210ms/step - loss: 6.4500e-04 - val_loss: 0.0158\n",
            "Epoch 19/100\n",
            "12/12 [==============================] - 3s 218ms/step - loss: 6.6464e-04 - val_loss: 0.0161\n",
            "Epoch 20/100\n",
            "12/12 [==============================] - 3s 245ms/step - loss: 6.4776e-04 - val_loss: 0.0158\n",
            "Epoch 21/100\n",
            "12/12 [==============================] - 3s 281ms/step - loss: 6.3647e-04 - val_loss: 0.0157\n",
            "Epoch 22/100\n",
            "12/12 [==============================] - 3s 244ms/step - loss: 6.4055e-04 - val_loss: 0.0154\n",
            "Epoch 23/100\n",
            "12/12 [==============================] - 3s 214ms/step - loss: 6.4000e-04 - val_loss: 0.0155\n",
            "Epoch 24/100\n",
            "12/12 [==============================] - 3s 239ms/step - loss: 6.6788e-04 - val_loss: 0.0160\n",
            "Epoch 25/100\n",
            "12/12 [==============================] - 4s 341ms/step - loss: 6.7919e-04 - val_loss: 0.0166\n",
            "Epoch 26/100\n",
            "12/12 [==============================] - 2s 210ms/step - loss: 6.8405e-04 - val_loss: 0.0154\n",
            "Epoch 27/100\n",
            "12/12 [==============================] - 3s 243ms/step - loss: 6.7721e-04 - val_loss: 0.0151\n",
            "Epoch 28/100\n",
            "12/12 [==============================] - 3s 236ms/step - loss: 6.3127e-04 - val_loss: 0.0160\n",
            "Epoch 29/100\n",
            "12/12 [==============================] - 4s 302ms/step - loss: 6.4855e-04 - val_loss: 0.0147\n",
            "Epoch 30/100\n",
            "12/12 [==============================] - 3s 212ms/step - loss: 6.6440e-04 - val_loss: 0.0151\n",
            "Epoch 31/100\n",
            "12/12 [==============================] - 3s 239ms/step - loss: 6.5794e-04 - val_loss: 0.0158\n",
            "Epoch 32/100\n",
            "12/12 [==============================] - 3s 211ms/step - loss: 6.7246e-04 - val_loss: 0.0147\n",
            "Epoch 33/100\n",
            "12/12 [==============================] - 3s 234ms/step - loss: 7.3282e-04 - val_loss: 0.0153\n",
            "Epoch 34/100\n",
            "12/12 [==============================] - 3s 275ms/step - loss: 6.7086e-04 - val_loss: 0.0152\n",
            "Epoch 35/100\n",
            "12/12 [==============================] - 2s 207ms/step - loss: 7.1239e-04 - val_loss: 0.0155\n",
            "Epoch 36/100\n",
            "12/12 [==============================] - 3s 214ms/step - loss: 6.4499e-04 - val_loss: 0.0142\n",
            "Epoch 37/100\n",
            "12/12 [==============================] - 3s 239ms/step - loss: 6.2250e-04 - val_loss: 0.0155\n",
            "Epoch 38/100\n",
            "12/12 [==============================] - 4s 308ms/step - loss: 6.2675e-04 - val_loss: 0.0147\n",
            "Epoch 39/100\n",
            "12/12 [==============================] - 3s 212ms/step - loss: 5.9556e-04 - val_loss: 0.0148\n",
            "Epoch 40/100\n",
            "12/12 [==============================] - 3s 245ms/step - loss: 6.4020e-04 - val_loss: 0.0140\n",
            "Epoch 41/100\n",
            "12/12 [==============================] - 3s 243ms/step - loss: 6.6907e-04 - val_loss: 0.0150\n",
            "Epoch 42/100\n",
            "12/12 [==============================] - 3s 284ms/step - loss: 7.2364e-04 - val_loss: 0.0137\n",
            "Epoch 43/100\n",
            "12/12 [==============================] - 3s 254ms/step - loss: 6.0655e-04 - val_loss: 0.0140\n",
            "Epoch 44/100\n",
            "12/12 [==============================] - 3s 211ms/step - loss: 6.1542e-04 - val_loss: 0.0140\n",
            "Epoch 45/100\n",
            "12/12 [==============================] - 3s 211ms/step - loss: 5.7226e-04 - val_loss: 0.0146\n",
            "Epoch 46/100\n",
            "12/12 [==============================] - 2s 205ms/step - loss: 6.0926e-04 - val_loss: 0.0130\n",
            "Epoch 47/100\n",
            "12/12 [==============================] - 4s 344ms/step - loss: 6.2346e-04 - val_loss: 0.0139\n",
            "Epoch 48/100\n",
            "12/12 [==============================] - 3s 211ms/step - loss: 6.1166e-04 - val_loss: 0.0133\n",
            "Epoch 49/100\n",
            "12/12 [==============================] - 3s 239ms/step - loss: 5.8094e-04 - val_loss: 0.0135\n",
            "Epoch 50/100\n",
            "12/12 [==============================] - 3s 235ms/step - loss: 5.6016e-04 - val_loss: 0.0127\n",
            "Epoch 51/100\n",
            "12/12 [==============================] - 4s 313ms/step - loss: 5.7810e-04 - val_loss: 0.0138\n",
            "Epoch 52/100\n",
            "12/12 [==============================] - 3s 236ms/step - loss: 5.5204e-04 - val_loss: 0.0126\n",
            "Epoch 53/100\n",
            "12/12 [==============================] - 3s 232ms/step - loss: 5.6730e-04 - val_loss: 0.0138\n",
            "Epoch 54/100\n",
            "12/12 [==============================] - 3s 240ms/step - loss: 5.6915e-04 - val_loss: 0.0123\n",
            "Epoch 55/100\n",
            "12/12 [==============================] - 3s 279ms/step - loss: 5.5585e-04 - val_loss: 0.0131\n",
            "Epoch 56/100\n",
            "12/12 [==============================] - 3s 235ms/step - loss: 5.3550e-04 - val_loss: 0.0129\n",
            "Epoch 57/100\n",
            "12/12 [==============================] - 3s 237ms/step - loss: 5.7572e-04 - val_loss: 0.0125\n",
            "Epoch 58/100\n",
            "12/12 [==============================] - 3s 236ms/step - loss: 5.4412e-04 - val_loss: 0.0115\n",
            "Epoch 59/100\n",
            "12/12 [==============================] - 3s 238ms/step - loss: 6.1931e-04 - val_loss: 0.0129\n",
            "Epoch 60/100\n",
            "12/12 [==============================] - 4s 315ms/step - loss: 5.3987e-04 - val_loss: 0.0118\n",
            "Epoch 61/100\n",
            "12/12 [==============================] - 3s 243ms/step - loss: 5.3412e-04 - val_loss: 0.0120\n",
            "Epoch 62/100\n",
            "12/12 [==============================] - 3s 242ms/step - loss: 5.2046e-04 - val_loss: 0.0123\n",
            "Epoch 63/100\n",
            "12/12 [==============================] - 3s 214ms/step - loss: 5.0585e-04 - val_loss: 0.0118\n",
            "Epoch 64/100\n",
            "12/12 [==============================] - 4s 334ms/step - loss: 5.2974e-04 - val_loss: 0.0111\n",
            "Epoch 65/100\n",
            "12/12 [==============================] - 2s 210ms/step - loss: 5.5041e-04 - val_loss: 0.0123\n",
            "Epoch 66/100\n",
            "12/12 [==============================] - 3s 235ms/step - loss: 6.0073e-04 - val_loss: 0.0122\n",
            "Epoch 67/100\n",
            "12/12 [==============================] - 3s 212ms/step - loss: 5.2606e-04 - val_loss: 0.0113\n",
            "Epoch 68/100\n",
            "12/12 [==============================] - 4s 302ms/step - loss: 4.8633e-04 - val_loss: 0.0118\n",
            "Epoch 69/100\n",
            "12/12 [==============================] - 3s 240ms/step - loss: 5.1203e-04 - val_loss: 0.0118\n",
            "Epoch 70/100\n",
            "12/12 [==============================] - 3s 213ms/step - loss: 4.8511e-04 - val_loss: 0.0113\n",
            "Epoch 71/100\n",
            "12/12 [==============================] - 3s 240ms/step - loss: 5.0003e-04 - val_loss: 0.0114\n",
            "Epoch 72/100\n",
            "12/12 [==============================] - 3s 225ms/step - loss: 5.2108e-04 - val_loss: 0.0110\n",
            "Epoch 73/100\n",
            "12/12 [==============================] - 3s 275ms/step - loss: 4.7243e-04 - val_loss: 0.0105\n",
            "Epoch 74/100\n",
            "12/12 [==============================] - 2s 207ms/step - loss: 4.5009e-04 - val_loss: 0.0105\n",
            "Epoch 75/100\n",
            "12/12 [==============================] - 3s 241ms/step - loss: 4.6365e-04 - val_loss: 0.0098\n",
            "Epoch 76/100\n",
            "12/12 [==============================] - 3s 212ms/step - loss: 6.1744e-04 - val_loss: 0.0101\n",
            "Epoch 77/100\n",
            "12/12 [==============================] - 4s 324ms/step - loss: 7.3875e-04 - val_loss: 0.0112\n",
            "Epoch 78/100\n",
            "12/12 [==============================] - 3s 238ms/step - loss: 5.3539e-04 - val_loss: 0.0111\n",
            "Epoch 79/100\n",
            "12/12 [==============================] - 3s 213ms/step - loss: 5.3298e-04 - val_loss: 0.0112\n",
            "Epoch 80/100\n",
            "12/12 [==============================] - 3s 238ms/step - loss: 5.4652e-04 - val_loss: 0.0097\n",
            "Epoch 81/100\n",
            "12/12 [==============================] - 3s 277ms/step - loss: 4.9658e-04 - val_loss: 0.0102\n",
            "Epoch 82/100\n",
            "12/12 [==============================] - 3s 243ms/step - loss: 4.5129e-04 - val_loss: 0.0107\n",
            "Epoch 83/100\n",
            "12/12 [==============================] - 3s 239ms/step - loss: 4.3274e-04 - val_loss: 0.0103\n",
            "Epoch 84/100\n",
            "12/12 [==============================] - 2s 207ms/step - loss: 4.6669e-04 - val_loss: 0.0104\n",
            "Epoch 85/100\n",
            "12/12 [==============================] - 2s 212ms/step - loss: 4.7885e-04 - val_loss: 0.0099\n",
            "Epoch 86/100\n",
            "12/12 [==============================] - 4s 311ms/step - loss: 4.0129e-04 - val_loss: 0.0098\n",
            "Epoch 87/100\n",
            "12/12 [==============================] - 3s 239ms/step - loss: 3.9983e-04 - val_loss: 0.0098\n",
            "Epoch 88/100\n",
            "12/12 [==============================] - 3s 216ms/step - loss: 3.9087e-04 - val_loss: 0.0095\n",
            "Epoch 89/100\n",
            "12/12 [==============================] - 3s 241ms/step - loss: 4.1462e-04 - val_loss: 0.0097\n",
            "Epoch 90/100\n",
            "12/12 [==============================] - 4s 308ms/step - loss: 3.8292e-04 - val_loss: 0.0091\n",
            "Epoch 91/100\n",
            "12/12 [==============================] - 3s 241ms/step - loss: 3.6719e-04 - val_loss: 0.0091\n",
            "Epoch 92/100\n",
            "12/12 [==============================] - 3s 235ms/step - loss: 3.7593e-04 - val_loss: 0.0085\n",
            "Epoch 93/100\n",
            "12/12 [==============================] - 3s 238ms/step - loss: 4.7945e-04 - val_loss: 0.0084\n",
            "Epoch 94/100\n",
            "12/12 [==============================] - 3s 274ms/step - loss: 4.3810e-04 - val_loss: 0.0086\n",
            "Epoch 95/100\n",
            "12/12 [==============================] - 3s 239ms/step - loss: 3.7879e-04 - val_loss: 0.0089\n",
            "Epoch 96/100\n",
            "12/12 [==============================] - 2s 210ms/step - loss: 3.6080e-04 - val_loss: 0.0083\n",
            "Epoch 97/100\n",
            "12/12 [==============================] - 3s 213ms/step - loss: 4.7497e-04 - val_loss: 0.0085\n",
            "Epoch 98/100\n",
            "12/12 [==============================] - 3s 237ms/step - loss: 3.5654e-04 - val_loss: 0.0087\n",
            "Epoch 99/100\n",
            "12/12 [==============================] - 4s 318ms/step - loss: 3.4363e-04 - val_loss: 0.0088\n",
            "Epoch 100/100\n",
            "12/12 [==============================] - 2s 209ms/step - loss: 3.3580e-04 - val_loss: 0.0086\n"
          ]
        },
        {
          "output_type": "execute_result",
          "data": {
            "text/plain": [
              "<keras.callbacks.History at 0x7efe78f44ac0>"
            ]
          },
          "metadata": {},
          "execution_count": 24
        }
      ]
    },
    {
      "cell_type": "code",
      "source": [
        "import tensorflow as tf\n",
        "#prediction and check performance metrics\n",
        "train_predict=model.predict(X_train)\n",
        "test_predict=model.predict(X_test)"
      ],
      "metadata": {
        "colab": {
          "base_uri": "https://localhost:8080/"
        },
        "id": "QXLFe5dVGTte",
        "outputId": "62e08908-a8d7-4e8f-c8c0-8070ef7926b0"
      },
      "execution_count": 25,
      "outputs": [
        {
          "output_type": "stream",
          "name": "stdout",
          "text": [
            "23/23 [==============================] - 4s 82ms/step\n",
            "11/11 [==============================] - 1s 42ms/step\n"
          ]
        }
      ]
    },
    {
      "cell_type": "code",
      "source": [
        "##Transformback to original form\n",
        "train_predict=scaler.inverse_transform(train_predict)\n",
        "test_predict=scaler.inverse_transform(test_predict)"
      ],
      "metadata": {
        "id": "hNBEKAisGZ7s"
      },
      "execution_count": 26,
      "outputs": []
    },
    {
      "cell_type": "code",
      "source": [
        "### Calculate RMSE performance metrics\n",
        "import math\n",
        "from sklearn.metrics import mean_squared_error\n",
        "math.sqrt(mean_squared_error(y_train,train_predict))"
      ],
      "metadata": {
        "colab": {
          "base_uri": "https://localhost:8080/"
        },
        "id": "2csWR5-5GeJu",
        "outputId": "71be6616-5749-402f-e3ef-5f1093ea46b0"
      },
      "execution_count": 27,
      "outputs": [
        {
          "output_type": "execute_result",
          "data": {
            "text/plain": [
              "1794.2295589639282"
            ]
          },
          "metadata": {},
          "execution_count": 27
        }
      ]
    },
    {
      "cell_type": "code",
      "source": [
        "### Test Data RMSE\n",
        "math.sqrt(mean_squared_error(ytest,test_predict))"
      ],
      "metadata": {
        "colab": {
          "base_uri": "https://localhost:8080/"
        },
        "id": "OXvx21d1GoDO",
        "outputId": "90b0efac-5d17-454e-f22f-cde897cff873"
      },
      "execution_count": 28,
      "outputs": [
        {
          "output_type": "execute_result",
          "data": {
            "text/plain": [
              "988.1563108474018"
            ]
          },
          "metadata": {},
          "execution_count": 28
        }
      ]
    },
    {
      "cell_type": "code",
      "source": [
        "### Plotting\n",
        "# shift train predictions for plotting\n",
        "look_back=100\n",
        "trainPredictPlot = numpy.empty_like(df1)\n",
        "trainPredictPlot[:, :] = np.nan\n",
        "trainPredictPlot[look_back:len(train_predict)+look_back, :] = train_predict\n",
        "# shift test predictions for plotting\n",
        "testPredictPlot = numpy.empty_like(df1)\n",
        "testPredictPlot[:, :] = numpy.nan\n",
        "testPredictPlot[len(train_predict)+(look_back*2)+1:len(df1)-1, :] = test_predict\n",
        "# plot baseline and predictions\n",
        "plt.plot(scaler.inverse_transform(df1))\n",
        "plt.plot(trainPredictPlot)\n",
        "plt.plot(testPredictPlot)\n",
        "plt.show()"
      ],
      "metadata": {
        "colab": {
          "base_uri": "https://localhost:8080/",
          "height": 430
        },
        "id": "QIZlT6P3Gvl5",
        "outputId": "89ba8dcb-756f-472c-bd31-562b6085ba5c"
      },
      "execution_count": 29,
      "outputs": [
        {
          "output_type": "display_data",
          "data": {
            "text/plain": [
              "<Figure size 640x480 with 1 Axes>"
            ],
            "image/png": "[encoded data removed]"
          },
          "metadata": {}
        }
      ]
    }
  ]
}